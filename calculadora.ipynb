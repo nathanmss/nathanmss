{
 "cells": [
  {
   "cell_type": "code",
   "execution_count": 4,
   "metadata": {},
   "outputs": [
    {
     "name": "stdout",
     "output_type": "stream",
     "text": [
      "30\n",
      "1\n",
      "11\n",
      "10\n"
     ]
    }
   ],
   "source": [
    "while True:\n",
    "    numero_1 = input('Digite um número: ')\n",
    "    numero_2 = input('Digite outro número: ')\n",
    "    operacao = input('Informe a operação:' )\n",
    "    sair = input('Deseja sair? (s/n). ').lower()\n",
    "\n",
    "\n",
    "# Checagem se é um número:\n",
    "    if not numero_1.isnumeric() or not numero_2.isnumeric:\n",
    "        print('Esse não é um número, você precisa digitar um número!.')\n",
    "        continue\n",
    "\n",
    "    numero_1 = int(numero_1)\n",
    "    numero_2 = int(numero_2)\n",
    "\n",
    "    if operacao == ('+'):\n",
    "        print(numero_1 + numero_2)\n",
    "    elif operacao == ('-'):\n",
    "        print(numero_1 - numero_2)\n",
    "    elif operacao == ('/'):\n",
    "        print(numero_1 / numero_2)\n",
    "    elif operacao == ('*'):\n",
    "        print(numero_1 * numero_2)\n",
    "    elif sair == 's':\n",
    "        print('Você saiu da calculadora!')\n",
    "        break\n",
    "        "
   ]
  },
  {
   "cell_type": "code",
   "execution_count": null,
   "metadata": {},
   "outputs": [],
   "source": []
  }
 ],
 "metadata": {
  "kernelspec": {
   "display_name": "Python 3.10.7 64-bit",
   "language": "python",
   "name": "python3"
  },
  "language_info": {
   "codemirror_mode": {
    "name": "ipython",
    "version": 3
   },
   "file_extension": ".py",
   "mimetype": "text/x-python",
   "name": "python",
   "nbconvert_exporter": "python",
   "pygments_lexer": "ipython3",
   "version": "3.10.7"
  },
  "orig_nbformat": 4,
  "vscode": {
   "interpreter": {
    "hash": "9f0d103aebe82dfbb47ec724a2ca4fd3dcb0c9038207abb072b7913218171667"
   }
  }
 },
 "nbformat": 4,
 "nbformat_minor": 2
}
