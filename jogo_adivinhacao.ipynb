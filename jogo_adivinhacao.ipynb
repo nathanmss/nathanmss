{
 "cells": [
  {
   "cell_type": "code",
   "execution_count": 8,
   "metadata": {},
   "outputs": [
    {
     "name": "stdout",
     "output_type": "stream",
     "text": [
      "Sifu, a letra \"k\", não está na palavra secreta!!\n",
      "A palavra secreta está assim ******\n",
      "Você ainda tem: 3 chances.\n",
      "Boa, a letra \"a\", está na palavra secreta!!\n",
      "A palavra secreta está assim *****a\n",
      "Você ainda tem: 3 chances.\n",
      "Sifu, a letra \"f\", não está na palavra secreta!!\n",
      "A palavra secreta está assim *****a\n",
      "Você ainda tem: 3 chances.\n"
     ]
    }
   ],
   "source": [
    "palavra_secreta = 'comida'\n",
    "digitadas = []\n",
    "tentativas = 3\n",
    "\n",
    "while True:\n",
    "    if tentativas < 0:\n",
    "        print(f'Suas tentativas acabaram, a palavra secreta era \"{palavra_secreta}\"!')\n",
    "        break\n",
    "    letra = input('Digite uma letra: ')\n",
    "\n",
    "    if len(letra) > 1:\n",
    "        print('Isso não vale, digite apenas ma letra.')\n",
    "        continue\n",
    "    \n",
    "    digitadas.append(letra)\n",
    "\n",
    "    if letra in palavra_secreta:\n",
    "        print(f'Boa, a letra \"{letra}\", está na palavra secreta!!')\n",
    "    else:\n",
    "        print(f'Sifu, a letra \"{letra}\", não está na palavra secreta!!')\n",
    "        digitadas.pop()\n",
    "    \n",
    "    secreto_temporario = ''\n",
    "    for letra_secreta in palavra_secreta:\n",
    "        if letra_secreta in digitadas:\n",
    "            secreto_temporario += letra_secreta\n",
    "        else:\n",
    "            secreto_temporario += '*'\n",
    "\n",
    "    if secreto_temporario == palavra_secreta:\n",
    "        print(f'Parabens meu nobre, voce ganhou! A palavra é \"{secreto_temporario}\"')\n",
    "        break\n",
    "    else:\n",
    "        print(f'A palavra secreta está assim {secreto_temporario}')\n",
    "\n",
    "    if letra not in palavra_secreta:\n",
    "        tentativas -= 1\n",
    "    \n",
    "    print(f'Você ainda tem: {tetativas} chances.')"
   ]
  },
  {
   "cell_type": "code",
   "execution_count": null,
   "metadata": {},
   "outputs": [],
   "source": []
  }
 ],
 "metadata": {
  "kernelspec": {
   "display_name": "Python 3.10.7 64-bit",
   "language": "python",
   "name": "python3"
  },
  "language_info": {
   "codemirror_mode": {
    "name": "ipython",
    "version": 3
   },
   "file_extension": ".py",
   "mimetype": "text/x-python",
   "name": "python",
   "nbconvert_exporter": "python",
   "pygments_lexer": "ipython3",
   "version": "3.10.7"
  },
  "orig_nbformat": 4,
  "vscode": {
   "interpreter": {
    "hash": "9f0d103aebe82dfbb47ec724a2ca4fd3dcb0c9038207abb072b7913218171667"
   }
  }
 },
 "nbformat": 4,
 "nbformat_minor": 2
}
